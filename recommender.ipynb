{
 "metadata": {
  "language_info": {
   "codemirror_mode": {
    "name": "ipython",
    "version": 3
   },
   "file_extension": ".py",
   "mimetype": "text/x-python",
   "name": "python",
   "nbconvert_exporter": "python",
   "pygments_lexer": "ipython3",
   "version": "3.9.0-final"
  },
  "orig_nbformat": 2,
  "kernelspec": {
   "name": "python3",
   "display_name": "Python 3",
   "language": "python"
  }
 },
 "nbformat": 4,
 "nbformat_minor": 2,
 "cells": [
  {
   "cell_type": "code",
   "execution_count": 14,
   "metadata": {},
   "outputs": [
    {
     "output_type": "execute_result",
     "data": {
      "text/plain": [
       "{'test_rmse': array([1.32074372, 1.32148872]),\n",
       " 'test_mae': array([1.02805288, 1.02891036]),\n",
       " 'fit_time': (72.25963497161865, 78.13482904434204),\n",
       " 'test_time': (13.720510244369507, 15.995151996612549)}"
      ]
     },
     "metadata": {},
     "execution_count": 14
    }
   ],
   "source": [
    "import pandas as pd\n",
    "from surprise import (Reader, Dataset, NormalPredictor, SVD)\n",
    "from surprise.model_selection import cross_validate\n",
    "df = pd.read_csv(\"./training.dat\", usecols=[0,1,2], header=None)\n",
    "reader = Reader(rating_scale=(1, 5))\n",
    "data = Dataset.load_from_df(df[[0, 1, 2]], reader)\n",
    "cross_validate(SVD(), data, cv=2)\n"
   ]
  },
  {
   "cell_type": "code",
   "execution_count": null,
   "metadata": {},
   "outputs": [],
   "source": []
  }
 ]
}